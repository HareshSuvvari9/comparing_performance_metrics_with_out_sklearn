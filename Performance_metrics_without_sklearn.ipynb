{
 "cells": [
  {
   "cell_type": "markdown",
   "metadata": {
    "id": "s0Ej_bXyQvnV"
   },
   "source": [
    "# performance metrics for the given Y and Y_score without sklearn"
   ]
  },
  {
   "cell_type": "code",
   "execution_count": 1,
   "metadata": {
    "executionInfo": {
     "elapsed": 1583,
     "status": "ok",
     "timestamp": 1611000235380,
     "user": {
      "displayName": "haresh suvvari",
      "photoUrl": "https://lh3.googleusercontent.com/a-/AOh14GiYyNgK2vcRSBBUKZQkku7DrABRGFClu-dcr1Mg=s64",
      "userId": "17479193107625929268"
     },
     "user_tz": -330
    },
    "id": "4CHb6NE7Qvnc"
   },
   "outputs": [],
   "source": [
    "#using only numpy and pandas in entire notebook.\n",
    "import numpy as np\n",
    "import pandas as pd"
   ]
  },
  {
   "cell_type": "markdown",
   "metadata": {
    "id": "KbsWXuDaQvnq"
   },
   "source": [
    "performance metrics for the given data \n",
    ",in this data  positive points > > number of negatives points\n",
    ",derive  class labels from given score pred= [0 if y_score < 0.5 else 1] \n",
    "\n",
    "\n"
   ]
  },
  {
   "cell_type": "code",
   "execution_count": 7,
   "metadata": {
    "colab": {
     "base_uri": "https://localhost:8080/"
    },
    "executionInfo": {
     "elapsed": 1718,
     "status": "ok",
     "timestamp": 1611000269408,
     "user": {
      "displayName": "haresh suvvari",
      "photoUrl": "https://lh3.googleusercontent.com/a-/AOh14GiYyNgK2vcRSBBUKZQkku7DrABRGFClu-dcr1Mg=s64",
      "userId": "17479193107625929268"
     },
     "user_tz": -330
    },
    "id": "WaFLW7oBQvnt",
    "outputId": "4b4acbf2-9c9f-4b12-fef0-a2e3da883a8b"
   },
   "outputs": [
    {
     "name": "stdout",
     "output_type": "stream",
     "text": [
      "     y     proba\n",
      "0  1.0  0.637387\n",
      "1  1.0  0.635165\n",
      "2  1.0  0.766586\n",
      "3  1.0  0.724564\n",
      "4  1.0  0.889199\n"
     ]
    }
   ],
   "source": [
    "#Reading the csv file into data frame.\n",
    "a=pd.read_csv(\"a.csv\")\n",
    "print(a.head())"
   ]
  },
  {
   "cell_type": "code",
   "execution_count": 8,
   "metadata": {
    "executionInfo": {
     "elapsed": 856,
     "status": "ok",
     "timestamp": 1611000270847,
     "user": {
      "displayName": "haresh suvvari",
      "photoUrl": "https://lh3.googleusercontent.com/a-/AOh14GiYyNgK2vcRSBBUKZQkku7DrABRGFClu-dcr1Mg=s64",
      "userId": "17479193107625929268"
     },
     "user_tz": -330
    },
    "id": "JbtfUiTNQMci"
   },
   "outputs": [],
   "source": [
    "#Creating a copy of a.csv\n",
    "a_copy=a.copy()\n",
    "#Setting the threshold to 0.5 and and assigning 0,1 values.\n",
    "a_copy['proba']=np.where(a_copy['proba']>= 0.5, 1,0)"
   ]
  },
  {
   "cell_type": "code",
   "execution_count": 5,
   "metadata": {
    "executionInfo": {
     "elapsed": 1726,
     "status": "ok",
     "timestamp": 1611000261996,
     "user": {
      "displayName": "haresh suvvari",
      "photoUrl": "https://lh3.googleusercontent.com/a-/AOh14GiYyNgK2vcRSBBUKZQkku7DrABRGFClu-dcr1Mg=s64",
      "userId": "17479193107625929268"
     },
     "user_tz": -330
    },
    "id": "9VykQEEbk1cH"
   },
   "outputs": [],
   "source": [
    "# This function \"truefalsevalues\" return the true negative,false negative,false positive,false positive.\n",
    "#https://datascience.stackexchange.com/questions/28493/confusion-matrix-get-items-fp-fn-tp-tn-python\n",
    "def truefalsevalues(actual,predicted):\n",
    "  tn=fp=tp=fn=0\n",
    "  for i in range(len(predicted)):\n",
    "    if actual[i]==predicted[i]==0:\n",
    "      tn+=1\n",
    "    if actual[i]==0 and predicted[i]!=actual[i]:\n",
    "      fp+=1\n",
    "    if actual[i]==predicted[i]==1:\n",
    "      tp+=1\n",
    "    if actual[i]==1 and predicted[i]!=actual[i]:\n",
    "      fn+=1\n",
    "  return (tn,fn,fp,tp)"
   ]
  },
  {
   "cell_type": "code",
   "execution_count": 105,
   "metadata": {
    "executionInfo": {
     "elapsed": 1800,
     "status": "ok",
     "timestamp": 1610996773744,
     "user": {
      "displayName": "haresh suvvari",
      "photoUrl": "https://lh3.googleusercontent.com/a-/AOh14GiYyNgK2vcRSBBUKZQkku7DrABRGFClu-dcr1Mg=s64",
      "userId": "17479193107625929268"
     },
     "user_tz": -330
    },
    "id": "r3UJfF9zK8k4"
   },
   "outputs": [],
   "source": [
    "#Getting True_Negative,False_Negative,False_Postitve,True_Positive values for file 5_a.csv\n",
    "tn0,fn0,fp0,tp0=truefalsevalues(a_copy[\"y\"],a_copy[\"proba\"])"
   ]
  },
  {
   "cell_type": "code",
   "execution_count": 108,
   "metadata": {
    "colab": {
     "base_uri": "https://localhost:8080/"
    },
    "executionInfo": {
     "elapsed": 2024,
     "status": "ok",
     "timestamp": 1610996861956,
     "user": {
      "displayName": "haresh suvvari",
      "photoUrl": "https://lh3.googleusercontent.com/a-/AOh14GiYyNgK2vcRSBBUKZQkku7DrABRGFClu-dcr1Mg=s64",
      "userId": "17479193107625929268"
     },
     "user_tz": -330
    },
    "id": "hWSg5FzKYiY9",
    "outputId": "14c66c24-7e80-4e9f-fb34-6a39f9ef3620"
   },
   "outputs": [
    {
     "name": "stdout",
     "output_type": "stream",
     "text": [
      "1.*****Confusion Matrix*****\n",
      "[[    0     0]\n",
      " [  100 10000]]\n"
     ]
    }
   ],
   "source": [
    "#Printing the Confusion matrix.\n",
    "a1=[[tn0,fn0],[fp0,tp0]]\n",
    "a12=np.array(a1)\n",
    "print(\"1.*****Confusion Matrix*****\")\n",
    "print(a12)"
   ]
  },
  {
   "cell_type": "code",
   "execution_count": 109,
   "metadata": {
    "executionInfo": {
     "elapsed": 1491,
     "status": "ok",
     "timestamp": 1610996866507,
     "user": {
      "displayName": "haresh suvvari",
      "photoUrl": "https://lh3.googleusercontent.com/a-/AOh14GiYyNgK2vcRSBBUKZQkku7DrABRGFClu-dcr1Mg=s64",
      "userId": "17479193107625929268"
     },
     "user_tz": -330
    },
    "id": "6EjqrHeCcZZL"
   },
   "outputs": [],
   "source": [
    "#These functions precision,recall,f1scores returns the precision,recall,f1score values respectively.\n",
    "def precision(tp,fp):\n",
    "  return tp/(tp+fp)\n",
    "def recall(tp,fn):\n",
    "  return tp/(tp+fn)\n",
    "p0=precision(tp0,fp0)\n",
    "r0=recall(tp0,fn0)\n",
    "def f1score(p,r):\n",
    "  return (2*((p*r)/(p+r+0.000000000001)))"
   ]
  },
  {
   "cell_type": "code",
   "execution_count": 110,
   "metadata": {
    "colab": {
     "base_uri": "https://localhost:8080/"
    },
    "executionInfo": {
     "elapsed": 1455,
     "status": "ok",
     "timestamp": 1610996871405,
     "user": {
      "displayName": "haresh suvvari",
      "photoUrl": "https://lh3.googleusercontent.com/a-/AOh14GiYyNgK2vcRSBBUKZQkku7DrABRGFClu-dcr1Mg=s64",
      "userId": "17479193107625929268"
     },
     "user_tz": -330
    },
    "id": "RcdbzWuKM9hn",
    "outputId": "ea536a6e-c32a-459f-d295-a3bbacfe1373"
   },
   "outputs": [
    {
     "name": "stdout",
     "output_type": "stream",
     "text": [
      "2.*****F1_Score*****\n",
      "\n",
      "0.9950248756213905\n"
     ]
    }
   ],
   "source": [
    "#Printing the \"F1_Score\"\n",
    "print(\"2.*****F1_Score*****\\n\")\n",
    "print(f1score(p0,r0))"
   ]
  },
  {
   "cell_type": "code",
   "execution_count": 2,
   "metadata": {
    "executionInfo": {
     "elapsed": 1763,
     "status": "ok",
     "timestamp": 1611000243477,
     "user": {
      "displayName": "haresh suvvari",
      "photoUrl": "https://lh3.googleusercontent.com/a-/AOh14GiYyNgK2vcRSBBUKZQkku7DrABRGFClu-dcr1Mg=s64",
      "userId": "17479193107625929268"
     },
     "user_tz": -330
    },
    "id": "hHXhT7OmcZIn"
   },
   "outputs": [],
   "source": [
    "#This function Auc_Score returns  TPR,FPR,AUC_SCORE VALUES.\n",
    "from tqdm import tqdm\n",
    "def Auc_Score(x):\n",
    "  t1=[]\n",
    "  f1=[]\n",
    "  x=x.sort_values(by=[\"proba\"],ascending=False)\n",
    "  g1=x[\"proba\"].unique()\n",
    "  for i in g1:\n",
    "    x['y_pred']=np.where(x['proba']>= i, 1,0)\n",
    "    TN,FN,FP,TP=truefalsevalues(x[\"y\"],x[\"y_pred\"])\n",
    "    TPR=TP/(TP+FN)\n",
    "    FPR=FP/(FP+TN)\n",
    "    t1.append(TPR)\n",
    "    f1.append(FPR)\n",
    "  return t1,f1,np.trapz(t1,f1)"
   ]
  },
  {
   "cell_type": "code",
   "execution_count": 9,
   "metadata": {
    "colab": {
     "base_uri": "https://localhost:8080/"
    },
    "executionInfo": {
     "elapsed": 3937394,
     "status": "ok",
     "timestamp": 1611004213617,
     "user": {
      "displayName": "haresh suvvari",
      "photoUrl": "https://lh3.googleusercontent.com/a-/AOh14GiYyNgK2vcRSBBUKZQkku7DrABRGFClu-dcr1Mg=s64",
      "userId": "17479193107625929268"
     },
     "user_tz": -330
    },
    "id": "47S_j3amtybE",
    "outputId": "75133692-56ec-45fe-e739-e51a95d2b049"
   },
   "outputs": [
    {
     "name": "stdout",
     "output_type": "stream",
     "text": [
      "3.****AUC_SCORE*****\n",
      "0.48829900000000004\n"
     ]
    }
   ],
   "source": [
    "#Printing Auc_Score for 5_a.csv\n",
    "Tpr0,Fpr0,AS0=Auc_Score(a)\n",
    "print(\"3.****AUC_SCORE*****\")\n",
    "print(AS0)"
   ]
  },
  {
   "cell_type": "code",
   "execution_count": 112,
   "metadata": {
    "colab": {
     "base_uri": "https://localhost:8080/"
    },
    "executionInfo": {
     "elapsed": 1069,
     "status": "ok",
     "timestamp": 1610996926426,
     "user": {
      "displayName": "haresh suvvari",
      "photoUrl": "https://lh3.googleusercontent.com/a-/AOh14GiYyNgK2vcRSBBUKZQkku7DrABRGFClu-dcr1Mg=s64",
      "userId": "17479193107625929268"
     },
     "user_tz": -330
    },
    "id": "LUm9qmw-RtgW",
    "outputId": "0cdee9d5-c101-459e-e4e2-c09197cbd2a3"
   },
   "outputs": [
    {
     "name": "stdout",
     "output_type": "stream",
     "text": [
      "4.*****Accuracy_Score*****\n",
      "\n",
      "0.9900990099009901\n"
     ]
    }
   ],
   "source": [
    "#This fucntion acc_score returns the accuracy score.\n",
    "def acc_score(tp,tn,fp,fn):\n",
    "  return ((tp+tn)/(tp+tn+fp+fn))\n",
    "#Printing the Accuracy score.\n",
    "print(\"4.*****Accuracy_Score*****\\n\")\n",
    "print(acc_score(tp0,tn0,fp0,fn0))"
   ]
  },
  {
   "cell_type": "markdown",
   "metadata": {
    "id": "V5KZem1BQvn2"
   },
   "source": [
    "#####################################################################################################\n",
    "Compute performance metrics for the given data b.csv\n",
    " ,In this data you can see number of positive points << number of negatives points\n",
    "\n",
    ", derive class labels from  score pred =[0 if y_score < 0.5 else 1]\n",
    "\n"
   ]
  },
  {
   "cell_type": "code",
   "execution_count": 10,
   "metadata": {
    "colab": {
     "base_uri": "https://localhost:8080/",
     "height": 204
    },
    "executionInfo": {
     "elapsed": 3929655,
     "status": "ok",
     "timestamp": 1611004213620,
     "user": {
      "displayName": "haresh suvvari",
      "photoUrl": "https://lh3.googleusercontent.com/a-/AOh14GiYyNgK2vcRSBBUKZQkku7DrABRGFClu-dcr1Mg=s64",
      "userId": "17479193107625929268"
     },
     "user_tz": -330
    },
    "id": "U2sKlq0YQvn5",
    "outputId": "1dea12bf-161f-4649-e373-3c7f5aa588c9"
   },
   "outputs": [
    {
     "data": {
      "text/html": [
       "<div>\n",
       "<style scoped>\n",
       "    .dataframe tbody tr th:only-of-type {\n",
       "        vertical-align: middle;\n",
       "    }\n",
       "\n",
       "    .dataframe tbody tr th {\n",
       "        vertical-align: top;\n",
       "    }\n",
       "\n",
       "    .dataframe thead th {\n",
       "        text-align: right;\n",
       "    }\n",
       "</style>\n",
       "<table border=\"1\" class=\"dataframe\">\n",
       "  <thead>\n",
       "    <tr style=\"text-align: right;\">\n",
       "      <th></th>\n",
       "      <th>y</th>\n",
       "      <th>proba</th>\n",
       "    </tr>\n",
       "  </thead>\n",
       "  <tbody>\n",
       "    <tr>\n",
       "      <th>0</th>\n",
       "      <td>0.0</td>\n",
       "      <td>0.281035</td>\n",
       "    </tr>\n",
       "    <tr>\n",
       "      <th>1</th>\n",
       "      <td>0.0</td>\n",
       "      <td>0.465152</td>\n",
       "    </tr>\n",
       "    <tr>\n",
       "      <th>2</th>\n",
       "      <td>0.0</td>\n",
       "      <td>0.352793</td>\n",
       "    </tr>\n",
       "    <tr>\n",
       "      <th>3</th>\n",
       "      <td>0.0</td>\n",
       "      <td>0.157818</td>\n",
       "    </tr>\n",
       "    <tr>\n",
       "      <th>4</th>\n",
       "      <td>0.0</td>\n",
       "      <td>0.276648</td>\n",
       "    </tr>\n",
       "  </tbody>\n",
       "</table>\n",
       "</div>"
      ],
      "text/plain": [
       "     y     proba\n",
       "0  0.0  0.281035\n",
       "1  0.0  0.465152\n",
       "2  0.0  0.352793\n",
       "3  0.0  0.157818\n",
       "4  0.0  0.276648"
      ]
     },
     "execution_count": 10,
     "metadata": {
      "tags": []
     },
     "output_type": "execute_result"
    }
   ],
   "source": [
    "#reading the data.\n",
    "b=pd.read_csv(\"b.csv\")\n",
    "b_copy=b.copy()\n",
    "b.head()"
   ]
  },
  {
   "cell_type": "code",
   "execution_count": 133,
   "metadata": {
    "colab": {
     "base_uri": "https://localhost:8080/",
     "height": 204
    },
    "executionInfo": {
     "elapsed": 1717,
     "status": "ok",
     "timestamp": 1610998201729,
     "user": {
      "displayName": "haresh suvvari",
      "photoUrl": "https://lh3.googleusercontent.com/a-/AOh14GiYyNgK2vcRSBBUKZQkku7DrABRGFClu-dcr1Mg=s64",
      "userId": "17479193107625929268"
     },
     "user_tz": -330
    },
    "id": "w6K4deeGqhcA",
    "outputId": "16eb063e-3a30-4403-97ad-0066a9eebfd9"
   },
   "outputs": [
    {
     "data": {
      "text/html": [
       "<div>\n",
       "<style scoped>\n",
       "    .dataframe tbody tr th:only-of-type {\n",
       "        vertical-align: middle;\n",
       "    }\n",
       "\n",
       "    .dataframe tbody tr th {\n",
       "        vertical-align: top;\n",
       "    }\n",
       "\n",
       "    .dataframe thead th {\n",
       "        text-align: right;\n",
       "    }\n",
       "</style>\n",
       "<table border=\"1\" class=\"dataframe\">\n",
       "  <thead>\n",
       "    <tr style=\"text-align: right;\">\n",
       "      <th></th>\n",
       "      <th>y</th>\n",
       "      <th>proba</th>\n",
       "    </tr>\n",
       "  </thead>\n",
       "  <tbody>\n",
       "    <tr>\n",
       "      <th>0</th>\n",
       "      <td>0.0</td>\n",
       "      <td>0</td>\n",
       "    </tr>\n",
       "    <tr>\n",
       "      <th>1</th>\n",
       "      <td>0.0</td>\n",
       "      <td>0</td>\n",
       "    </tr>\n",
       "    <tr>\n",
       "      <th>2</th>\n",
       "      <td>0.0</td>\n",
       "      <td>0</td>\n",
       "    </tr>\n",
       "    <tr>\n",
       "      <th>3</th>\n",
       "      <td>0.0</td>\n",
       "      <td>0</td>\n",
       "    </tr>\n",
       "    <tr>\n",
       "      <th>4</th>\n",
       "      <td>0.0</td>\n",
       "      <td>0</td>\n",
       "    </tr>\n",
       "  </tbody>\n",
       "</table>\n",
       "</div>"
      ],
      "text/plain": [
       "     y  proba\n",
       "0  0.0      0\n",
       "1  0.0      0\n",
       "2  0.0      0\n",
       "3  0.0      0\n",
       "4  0.0      0"
      ]
     },
     "execution_count": 133,
     "metadata": {
      "tags": []
     },
     "output_type": "execute_result"
    }
   ],
   "source": [
    "#labeling proba values based on 0.5 threshold.\n",
    "b['proba']=np.where(b['proba']>= 0.5, 1,0)\n",
    "b.head()"
   ]
  },
  {
   "cell_type": "code",
   "execution_count": 115,
   "metadata": {
    "colab": {
     "base_uri": "https://localhost:8080/"
    },
    "executionInfo": {
     "elapsed": 1200,
     "status": "ok",
     "timestamp": 1610996948187,
     "user": {
      "displayName": "haresh suvvari",
      "photoUrl": "https://lh3.googleusercontent.com/a-/AOh14GiYyNgK2vcRSBBUKZQkku7DrABRGFClu-dcr1Mg=s64",
      "userId": "17479193107625929268"
     },
     "user_tz": -330
    },
    "id": "dtxERTY57Zwg",
    "outputId": "59d844b4-4cef-4b15-86db-bed72f86941d"
   },
   "outputs": [
    {
     "name": "stdout",
     "output_type": "stream",
     "text": [
      "1.*****Confusion_Matrix*****\n",
      "[[9761  239]\n",
      " [  45   55]]\n"
     ]
    }
   ],
   "source": [
    "#using the previous functions to get the confusion matrix.\n",
    "tn1,fn1,fp1,tp1=truefalsevalues(b[\"y\"],b[\"proba\"])\n",
    "print(\"1.*****Confusion_Matrix*****\")\n",
    "b1=[[tn1,fp1],[fn1,tp1]]\n",
    "b12=np.array(b1)\n",
    "print(b12)"
   ]
  },
  {
   "cell_type": "code",
   "execution_count": 116,
   "metadata": {
    "colab": {
     "base_uri": "https://localhost:8080/"
    },
    "executionInfo": {
     "elapsed": 1601,
     "status": "ok",
     "timestamp": 1610996965600,
     "user": {
      "displayName": "haresh suvvari",
      "photoUrl": "https://lh3.googleusercontent.com/a-/AOh14GiYyNgK2vcRSBBUKZQkku7DrABRGFClu-dcr1Mg=s64",
      "userId": "17479193107625929268"
     },
     "user_tz": -330
    },
    "id": "gehPH2L37g3j",
    "outputId": "ff4f0f77-e38e-435a-9b41-4c0db4264cb1"
   },
   "outputs": [
    {
     "name": "stdout",
     "output_type": "stream",
     "text": [
      "2.*****F1_Score*****\n",
      "\n",
      "0.2791878172585045\n"
     ]
    }
   ],
   "source": [
    "#printing the F1 score.\n",
    "print(\"2.*****F1_Score*****\\n\")\n",
    "p1=precision(tp1,fp1)\n",
    "r1=recall(tp1,fn1)\n",
    "print(f1score(p1,r1))"
   ]
  },
  {
   "cell_type": "code",
   "execution_count": 11,
   "metadata": {
    "colab": {
     "base_uri": "https://localhost:8080/"
    },
    "executionInfo": {
     "elapsed": 7685161,
     "status": "ok",
     "timestamp": 1611007983617,
     "user": {
      "displayName": "haresh suvvari",
      "photoUrl": "https://lh3.googleusercontent.com/a-/AOh14GiYyNgK2vcRSBBUKZQkku7DrABRGFClu-dcr1Mg=s64",
      "userId": "17479193107625929268"
     },
     "user_tz": -330
    },
    "id": "yW0QjoGj73iS",
    "outputId": "ce61574e-8957-49c5-94fe-aa12baa0547c"
   },
   "outputs": [
    {
     "name": "stdout",
     "output_type": "stream",
     "text": [
      "3.*****AUC_SCORE*****\n",
      "0.9377570000000001\n"
     ]
    }
   ],
   "source": [
    "#printing the AUC_SCORES.\n",
    "Tpr2,Fpr2,AS2=Auc_Score(b_copy)\n",
    "print(\"3.*****AUC_SCORE*****\")\n",
    "print(AS2)"
   ]
  },
  {
   "cell_type": "code",
   "execution_count": null,
   "metadata": {
    "colab": {
     "base_uri": "https://localhost:8080/"
    },
    "executionInfo": {
     "elapsed": 1396,
     "status": "ok",
     "timestamp": 1610420104952,
     "user": {
      "displayName": "haresh suvvari",
      "photoUrl": "https://lh3.googleusercontent.com/a-/AOh14GiYyNgK2vcRSBBUKZQkku7DrABRGFClu-dcr1Mg=s64",
      "userId": "17479193107625929268"
     },
     "user_tz": -330
    },
    "id": "uBB1Nl9l8dJJ",
    "outputId": "a2b4a8dc-c9fe-4b8d-e84c-9006170fcbd9"
   },
   "outputs": [
    {
     "name": "stdout",
     "output_type": "stream",
     "text": [
      "4.*****Accuracy_Score*****\n",
      "\n",
      "0.9718811881188119\n"
     ]
    }
   ],
   "source": [
    "#printing the accuaracy_score.\n",
    "print(\"4.*****Accuracy_Score*****\\n\")\n",
    "print(acc_score(tp1,tn1,fp1,fn1))"
   ]
  },
  {
   "cell_type": "markdown",
   "metadata": {
    "id": "GiPGonTzQvoB"
   },
   "source": [
    "Computing the best threshold (similarly to ROC curve computation) of probability which gives lowest values of metric A for the given data c.csv\n",
    "\n",
    " ,predicting label of a data points pred = [0 if y_score < threshold  else 1]\n",
    "\n",
    " ,A = 500 * {number of false negative} + 100 *{numebr of false positive}\n",
    "\n",
    " ,in data number of negative points > number of positive points\n"
   ]
  },
  {
   "cell_type": "code",
   "execution_count": 45,
   "metadata": {
    "colab": {
     "base_uri": "https://localhost:8080/",
     "height": 204
    },
    "executionInfo": {
     "elapsed": 1235,
     "status": "ok",
     "timestamp": 1610993006891,
     "user": {
      "displayName": "haresh suvvari",
      "photoUrl": "https://lh3.googleusercontent.com/a-/AOh14GiYyNgK2vcRSBBUKZQkku7DrABRGFClu-dcr1Mg=s64",
      "userId": "17479193107625929268"
     },
     "user_tz": -330
    },
    "id": "x5HIJzq1QvoE",
    "outputId": "9a1564da-d3c8-4e3b-c406-f41d5c70655e"
   },
   "outputs": [
    {
     "data": {
      "text/html": [
       "<div>\n",
       "<style scoped>\n",
       "    .dataframe tbody tr th:only-of-type {\n",
       "        vertical-align: middle;\n",
       "    }\n",
       "\n",
       "    .dataframe tbody tr th {\n",
       "        vertical-align: top;\n",
       "    }\n",
       "\n",
       "    .dataframe thead th {\n",
       "        text-align: right;\n",
       "    }\n",
       "</style>\n",
       "<table border=\"1\" class=\"dataframe\">\n",
       "  <thead>\n",
       "    <tr style=\"text-align: right;\">\n",
       "      <th></th>\n",
       "      <th>y</th>\n",
       "      <th>prob</th>\n",
       "    </tr>\n",
       "  </thead>\n",
       "  <tbody>\n",
       "    <tr>\n",
       "      <th>0</th>\n",
       "      <td>0</td>\n",
       "      <td>0.458521</td>\n",
       "    </tr>\n",
       "    <tr>\n",
       "      <th>1</th>\n",
       "      <td>0</td>\n",
       "      <td>0.505037</td>\n",
       "    </tr>\n",
       "    <tr>\n",
       "      <th>2</th>\n",
       "      <td>0</td>\n",
       "      <td>0.418652</td>\n",
       "    </tr>\n",
       "    <tr>\n",
       "      <th>3</th>\n",
       "      <td>0</td>\n",
       "      <td>0.412057</td>\n",
       "    </tr>\n",
       "    <tr>\n",
       "      <th>4</th>\n",
       "      <td>0</td>\n",
       "      <td>0.375579</td>\n",
       "    </tr>\n",
       "  </tbody>\n",
       "</table>\n",
       "</div>"
      ],
      "text/plain": [
       "   y      prob\n",
       "0  0  0.458521\n",
       "1  0  0.505037\n",
       "2  0  0.418652\n",
       "3  0  0.412057\n",
       "4  0  0.375579"
      ]
     },
     "execution_count": 45,
     "metadata": {
      "tags": []
     },
     "output_type": "execute_result"
    }
   ],
   "source": [
    "#reading the data.\n",
    "c=pd.read_csv(\"c.csv\")\n",
    "#c['proba']=c['prob'].apply(lambda x: repl(x,0.5))\n",
    "c_copy=c.copy()\n",
    "c.head()"
   ]
  },
  {
   "cell_type": "code",
   "execution_count": 128,
   "metadata": {
    "executionInfo": {
     "elapsed": 1459,
     "status": "ok",
     "timestamp": 1610997432843,
     "user": {
      "displayName": "haresh suvvari",
      "photoUrl": "https://lh3.googleusercontent.com/a-/AOh14GiYyNgK2vcRSBBUKZQkku7DrABRGFClu-dcr1Mg=s64",
      "userId": "17479193107625929268"
     },
     "user_tz": -330
    },
    "id": "U9CCUXVSs4Ea"
   },
   "outputs": [],
   "source": [
    "#This function best_threshold returns the a value and the best threshold value.\n",
    "from tqdm import tqdm\n",
    "def best_threshold(x):\n",
    "  d={}\n",
    "  b=x.sort_values(by=[\"prob\"],ascending=False)\n",
    "  for i in b[\"prob\"].unique():\n",
    "    x[\"y_proba\"]=np.where(x[\"prob\"]>=i,1,0)\n",
    "    tn,fn,fp,tp=truefalsevalues(x[\"y\"],x[\"y_proba\"])\n",
    "    a=(500*fn)+(100*fp)\n",
    "    d[i]=a\n",
    "  return d"
   ]
  },
  {
   "cell_type": "code",
   "execution_count": 130,
   "metadata": {
    "colab": {
     "base_uri": "https://localhost:8080/"
    },
    "executionInfo": {
     "elapsed": 211191,
     "status": "ok",
     "timestamp": 1610998082357,
     "user": {
      "displayName": "haresh suvvari",
      "photoUrl": "https://lh3.googleusercontent.com/a-/AOh14GiYyNgK2vcRSBBUKZQkku7DrABRGFClu-dcr1Mg=s64",
      "userId": "17479193107625929268"
     },
     "user_tz": -330
    },
    "id": "yy2fg3bE6Ema",
    "outputId": "3f91a173-6d6e-430a-f31e-6cbafd5d58f6"
   },
   "outputs": [
    {
     "name": "stdout",
     "output_type": "stream",
     "text": [
      "best threshold value , A_Value\n",
      "(0.2300390278970873, 141000)\n"
     ]
    }
   ],
   "source": [
    "#Printing the best threshold values.\n",
    "ss=best_threshold(c)\n",
    "print(\"best threshold value , A_Value\")\n",
    "print(min(ss.items(), key=lambda x: x[1]))\n"
   ]
  },
  {
   "cell_type": "markdown",
   "metadata": {
    "id": "sD4CcgjXQvoL"
   },
   "source": [
    "###################################################################\n",
    "\n",
    "\n",
    "Computing performance metrics(for regression) for the  data d.csv\n",
    "   \n",
    ",d.csv had two columns Y and predicted_Y both are real valued features\n"
   ]
  },
  {
   "cell_type": "code",
   "execution_count": null,
   "metadata": {
    "colab": {
     "base_uri": "https://localhost:8080/",
     "height": 204
    },
    "executionInfo": {
     "elapsed": 1392,
     "status": "ok",
     "timestamp": 1610215592686,
     "user": {
      "displayName": "haresh suvvari",
      "photoUrl": "https://lh3.googleusercontent.com/a-/AOh14GiYyNgK2vcRSBBUKZQkku7DrABRGFClu-dcr1Mg=s64",
      "userId": "17479193107625929268"
     },
     "user_tz": -330
    },
    "id": "DnnJg-rdOG4f",
    "outputId": "cd0496e4-cd01-4716-8b0e-368bfcd2bdf1"
   },
   "outputs": [
    {
     "data": {
      "text/html": [
       "<div>\n",
       "<style scoped>\n",
       "    .dataframe tbody tr th:only-of-type {\n",
       "        vertical-align: middle;\n",
       "    }\n",
       "\n",
       "    .dataframe tbody tr th {\n",
       "        vertical-align: top;\n",
       "    }\n",
       "\n",
       "    .dataframe thead th {\n",
       "        text-align: right;\n",
       "    }\n",
       "</style>\n",
       "<table border=\"1\" class=\"dataframe\">\n",
       "  <thead>\n",
       "    <tr style=\"text-align: right;\">\n",
       "      <th></th>\n",
       "      <th>y</th>\n",
       "      <th>pred</th>\n",
       "    </tr>\n",
       "  </thead>\n",
       "  <tbody>\n",
       "    <tr>\n",
       "      <th>0</th>\n",
       "      <td>101.0</td>\n",
       "      <td>100.0</td>\n",
       "    </tr>\n",
       "    <tr>\n",
       "      <th>1</th>\n",
       "      <td>120.0</td>\n",
       "      <td>100.0</td>\n",
       "    </tr>\n",
       "    <tr>\n",
       "      <th>2</th>\n",
       "      <td>131.0</td>\n",
       "      <td>113.0</td>\n",
       "    </tr>\n",
       "    <tr>\n",
       "      <th>3</th>\n",
       "      <td>164.0</td>\n",
       "      <td>125.0</td>\n",
       "    </tr>\n",
       "    <tr>\n",
       "      <th>4</th>\n",
       "      <td>154.0</td>\n",
       "      <td>152.0</td>\n",
       "    </tr>\n",
       "  </tbody>\n",
       "</table>\n",
       "</div>"
      ],
      "text/plain": [
       "       y   pred\n",
       "0  101.0  100.0\n",
       "1  120.0  100.0\n",
       "2  131.0  113.0\n",
       "3  164.0  125.0\n",
       "4  154.0  152.0"
      ]
     },
     "execution_count": 3,
     "metadata": {
      "tags": []
     },
     "output_type": "execute_result"
    }
   ],
   "source": [
    "#Reading the data.\n",
    "d=pd.read_csv(\"d.csv\")\n",
    "d.head()"
   ]
  },
  {
   "cell_type": "code",
   "execution_count": null,
   "metadata": {
    "colab": {
     "base_uri": "https://localhost:8080/"
    },
    "executionInfo": {
     "elapsed": 3860,
     "status": "ok",
     "timestamp": 1610215598408,
     "user": {
      "displayName": "haresh suvvari",
      "photoUrl": "https://lh3.googleusercontent.com/a-/AOh14GiYyNgK2vcRSBBUKZQkku7DrABRGFClu-dcr1Mg=s64",
      "userId": "17479193107625929268"
     },
     "user_tz": -330
    },
    "id": "XBouk9OrOXQx",
    "outputId": "5b87f541-9fa2-403e-9064-3145829d7134"
   },
   "outputs": [
    {
     "name": "stdout",
     "output_type": "stream",
     "text": [
      "177.16569974554707\n"
     ]
    }
   ],
   "source": [
    "#This fucntion Mean_Square_Error returns the mean sqauare error value.\n",
    "def Mean_Square_Error(x):\n",
    "  a=[]\n",
    "  for i in range(len(x)):\n",
    "    z=(x.loc[i,\"y\"]-x.loc[i,\"pred\"])**2\n",
    "    a.append(z)\n",
    "  return sum(a)/len(a)\n",
    "print(Mean_Square_Error(d))\n"
   ]
  },
  {
   "cell_type": "code",
   "execution_count": null,
   "metadata": {
    "colab": {
     "base_uri": "https://localhost:8080/"
    },
    "executionInfo": {
     "elapsed": 5382,
     "status": "ok",
     "timestamp": 1610215605710,
     "user": {
      "displayName": "haresh suvvari",
      "photoUrl": "https://lh3.googleusercontent.com/a-/AOh14GiYyNgK2vcRSBBUKZQkku7DrABRGFClu-dcr1Mg=s64",
      "userId": "17479193107625929268"
     },
     "user_tz": -330
    },
    "id": "UXeoYVWbhvR7",
    "outputId": "6524c74f-a217-4d59-d42e-3b0233efc236"
   },
   "outputs": [
    {
     "name": "stdout",
     "output_type": "stream",
     "text": [
      "0.1291202994009687\n"
     ]
    }
   ],
   "source": [
    "#This function Mean_Absolute_Persentage_Error returns the MAPE value.\n",
    "def Mean_Absolute_Percentage_Error(x):\n",
    "  a=[]\n",
    "  b=[]\n",
    "  for i in range(len(x)):\n",
    "    y=abs(x.loc[i,\"pred\"]-x.loc[i,\"y\"])\n",
    "    a.append(y)\n",
    "    b.append(x.loc[i,\"y\"])\n",
    "  return sum(a)/sum(b)\n",
    "print(Mean_Absolute_Percentage_Error(d))\n"
   ]
  },
  {
   "cell_type": "code",
   "execution_count": null,
   "metadata": {
    "colab": {
     "base_uri": "https://localhost:8080/"
    },
    "executionInfo": {
     "elapsed": 5286,
     "status": "ok",
     "timestamp": 1610216183119,
     "user": {
      "displayName": "haresh suvvari",
      "photoUrl": "https://lh3.googleusercontent.com/a-/AOh14GiYyNgK2vcRSBBUKZQkku7DrABRGFClu-dcr1Mg=s64",
      "userId": "17479193107625929268"
     },
     "user_tz": -330
    },
    "id": "55jHAsYAVFw4",
    "outputId": "21c3dbe0-e368-483a-c656-178fa7e5995f"
   },
   "outputs": [
    {
     "name": "stdout",
     "output_type": "stream",
     "text": [
      "0.9563583447288628\n"
     ]
    }
   ],
   "source": [
    "#This function R_Square returns the Coefficient of determination value\n",
    "def R_Square(x):\n",
    "  m=x[\"pred\"].mean()\n",
    "  y_tot=[]\n",
    "  y_res=[]\n",
    "  for i in range(len(x)):\n",
    "    y=(x.loc[i,\"y\"]-x.loc[i,\"pred\"])**2\n",
    "    y_res.append(y)\n",
    "    y1=(x.loc[i,\"y\"]-m)**2\n",
    "    y_tot.append(y1)\n",
    "  return 1-(sum(y_res)/sum(y_tot))\n",
    "print(R_Square(d))\n"
   ]
  }
 ],
 "metadata": {
  "accelerator": "TPU",
  "colab": {
   "collapsed_sections": [],
   "name": "Performance_metrics_Instructions.ipynb",
   "provenance": [
    {
     "file_id": "1fvM2W2fJORKOxmje99ScLRJNdKYV2bFZ",
     "timestamp": 1610218004663
    }
   ]
  },
  "kernelspec": {
   "display_name": "Python 3",
   "language": "python",
   "name": "python3"
  },
  "language_info": {
   "codemirror_mode": {
    "name": "ipython",
    "version": 3
   },
   "file_extension": ".py",
   "mimetype": "text/x-python",
   "name": "python",
   "nbconvert_exporter": "python",
   "pygments_lexer": "ipython3",
   "version": "3.7.6"
  }
 },
 "nbformat": 4,
 "nbformat_minor": 4
}
